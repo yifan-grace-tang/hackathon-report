{
  "nbformat": 4,
  "nbformat_minor": 0,
  "metadata": {
    "colab": {
      "provenance": [],
      "gpuType": "A100"
    },
    "kernelspec": {
      "name": "python3",
      "display_name": "Python 3"
    },
    "language_info": {
      "name": "python"
    },
    "accelerator": "GPU"
  },
  "cells": [
    {
      "cell_type": "markdown",
      "source": [
        "\n",
        "<table style=\"background-color: transparent; border: none;\">   \n",
        "  <tr>     \n",
        "    <td><img src=\"https://cdn.prod.website-files.com/6606dc3fd5f6645318003df4/6678476dc198b5a75b8c8873_ES_Logo_Black_5.png\" width=\"100\" alt=\"img\"/></td>     \n",
        "    <td><h1>Custom Embeddings + <code>XGBoost</code></h1></td>   \n",
        "  </tr>\n",
        "</table>\n",
        "\n",
        "</br>\n",
        "\n",
        "> __Updated On: `04.04`__\n",
        "\n",
        "\n",
        "__Key Notes:__\n",
        "\n",
        "- This model is a complete overhaul from previous implementations focusing on `NN` (_Neural Network_) implementations.\n",
        "- Here we explore the capabilities of [_XGBoost_](https://xgboost.readthedocs.io/en/release_3.0.0/) and [_Random Search_](https://www.yourdatateacher.com/2021/05/19/hyperparameter-tuning-grid-search-and-random-search/) hyperparameter tuning.\n",
        "- Validated __Spearman__ from Gradescope: `0.44`\n",
        "\n"
      ],
      "metadata": {
        "id": "uBt3dG1NTU-Y"
      }
    },
    {
      "cell_type": "markdown",
      "source": [
        "---\n",
        "\n",
        "### Required Imports"
      ],
      "metadata": {
        "id": "7mly98Y9ZsAw"
      }
    },
    {
      "cell_type": "code",
      "source": [
        "from copy import deepcopy\n",
        "import pandas as pd\n",
        "import os\n",
        "import time\n",
        "import shutil\n",
        "import numpy as np\n",
        "from tqdm import tqdm\n",
        "\n",
        "import torch\n",
        "import torch.nn as nn\n",
        "import torch.nn.functional as F\n",
        "import torch.optim as optim\n",
        "from torch.utils.data import Dataset, DataLoader, Subset\n",
        "from scipy.stats import spearmanr\n",
        "import xgboost as xgb\n",
        "from sklearn.model_selection import train_test_split, RandomizedSearchCV\n",
        "from sklearn.metrics import make_scorer, mean_squared_error"
      ],
      "metadata": {
        "id": "tH5HCnGBZ0N9"
      },
      "execution_count": null,
      "outputs": []
    },
    {
      "cell_type": "markdown",
      "source": [
        "---\n",
        "\n",
        "### Data Collection and Cleaning\n"
      ],
      "metadata": {
        "id": "XM770OPIaFeA"
      }
    },
    {
      "cell_type": "markdown",
      "source": [
        "\n",
        "> __This section relies on having a `sequence.fasta`, `train.csv`, `query.csv` and `test.csv` in your runtime.__\n",
        "\n",
        "We can start by looking at our _sequence_ from the `sequence.fasta` file and analyzing its composition and length. Our _sequence_ will be the entry-point to generate mutated sequences from coded mutations as discussed later."
      ],
      "metadata": {
        "id": "tSyyllmRbviV"
      }
    },
    {
      "cell_type": "code",
      "source": [
        "with open('sequence.fasta', 'r') as f:\n",
        "  data = f.readlines()\n",
        "\n",
        "print('Sequence:\\n')\n",
        "sequence_wt = data[1].strip()\n",
        "print(f'{sequence_wt[:100]}...')\n",
        "\n",
        "print(f'\\nLength: {len(sequence_wt)}')"
      ],
      "metadata": {
        "colab": {
          "base_uri": "https://localhost:8080/"
        },
        "id": "XPa-t_X3am1I",
        "outputId": "e12f3b15-e070-45fb-8931-872ff296758f"
      },
      "execution_count": null,
      "outputs": [
        {
          "output_type": "stream",
          "name": "stdout",
          "text": [
            "Sequence:\n",
            "\n",
            "MVNEARGNSSLNPCLEGSASSGSESSKDSSRCSTPGLDPERHERLREKMRRRLESGDKWFSLEFFPPRTAEGAVNLISRFDRMAAGGPLYIDVTWHPAGD...\n",
            "\n",
            "Length: 656\n"
          ]
        }
      ]
    },
    {
      "cell_type": "markdown",
      "source": [
        "In order to effectively leverage our _training_ data in `train.csv` we need to develop a function for transforming mutations into mutated sequences based on the given __WT__ (_Wild Type_). This is crucial as our vectors will be generated based on the mutated 656 length sequence and _not_ simply a mutant code."
      ],
      "metadata": {
        "id": "iOilEjqvbxiW"
      }
    },
    {
      "cell_type": "code",
      "source": [
        "def get_mutated_sequence(mut, sequence_wt):\n",
        "  wt, pos, mt = mut[0], int(mut[1:-1]), mut[-1]\n",
        "\n",
        "  sequence = deepcopy(sequence_wt)\n",
        "  return sequence[:pos]+mt+sequence[pos+1:]"
      ],
      "metadata": {
        "id": "7JLXOI5HcP7N"
      },
      "execution_count": null,
      "outputs": []
    },
    {
      "cell_type": "markdown",
      "source": [
        "Now generating all mutated sequences based on the __WT__ and mutation code for the data points in `train.csv`:"
      ],
      "metadata": {
        "id": "W6Uy8dZJcWUY"
      }
    },
    {
      "cell_type": "code",
      "source": [
        "df_train = pd.read_csv('train.csv')\n",
        "df_train['sequence'] = df_train.mutant.apply(lambda x: get_mutated_sequence(x, sequence_wt))\n",
        "\n",
        "print(df_train.head(5))"
      ],
      "metadata": {
        "colab": {
          "base_uri": "https://localhost:8080/"
        },
        "id": "51oDvjurcZkL",
        "outputId": "671e60fb-dff0-4a23-a486-81006dd75210"
      },
      "execution_count": null,
      "outputs": [
        {
          "output_type": "stream",
          "name": "stdout",
          "text": [
            "  mutant  DMS_score                                           sequence\n",
            "0    M0Y     0.2730  YVNEARGNSSLNPCLEGSASSGSESSKDSSRCSTPGLDPERHERLR...\n",
            "1    M0W     0.2857  WVNEARGNSSLNPCLEGSASSGSESSKDSSRCSTPGLDPERHERLR...\n",
            "2    M0V     0.2153  VVNEARGNSSLNPCLEGSASSGSESSKDSSRCSTPGLDPERHERLR...\n",
            "3    M0T     0.3122  TVNEARGNSSLNPCLEGSASSGSESSKDSSRCSTPGLDPERHERLR...\n",
            "4    M0S     0.2180  SVNEARGNSSLNPCLEGSASSGSESSKDSSRCSTPGLDPERHERLR...\n"
          ]
        }
      ]
    },
    {
      "cell_type": "markdown",
      "source": [
        "Now we also need to incorporate the _new_ training data generated via an active learning query into `df_train`. This code accepts _all_ active learning query files of the form `query*.csv`:"
      ],
      "metadata": {
        "id": "6DF4uOhTckHG"
      }
    },
    {
      "cell_type": "code",
      "source": [
        "for filename in os.listdir():\n",
        "  if filename.startswith('query') and filename.endswith('.csv'):\n",
        "    df_query = pd.read_csv(filename)\n",
        "    df_query['sequence'] = df_query.mutant.apply(lambda x: get_mutated_sequence(x, sequence_wt))\n",
        "    df_train = pd.concat([df_train, df_query])\n",
        "\n",
        "print(df_train['DMS_score'].describe())"
      ],
      "metadata": {
        "id": "qxfQfSg7c0TU",
        "colab": {
          "base_uri": "https://localhost:8080/"
        },
        "outputId": "585214e9-c696-4047-f161-4e3d1e16216c"
      },
      "execution_count": null,
      "outputs": [
        {
          "output_type": "stream",
          "name": "stdout",
          "text": [
            "count    1440.000000\n",
            "mean        0.333433\n",
            "std         0.296895\n",
            "min         0.006700\n",
            "25%         0.086850\n",
            "50%         0.234650\n",
            "75%         0.536943\n",
            "max         0.995700\n",
            "Name: DMS_score, dtype: float64\n"
          ]
        }
      ]
    },
    {
      "cell_type": "markdown",
      "source": [
        "Applying a similar process to the datapoints in `test.csv` (of course with the absence of a `DMS_score`):"
      ],
      "metadata": {
        "id": "i0bacm4_dC5m"
      }
    },
    {
      "cell_type": "code",
      "source": [
        "df_test = pd.read_csv('test.csv')\n",
        "df_test['sequence'] = df_test.mutant.apply(lambda x: get_mutated_sequence(x, sequence_wt))\n",
        "\n",
        "print(df_test.head(5))"
      ],
      "metadata": {
        "colab": {
          "base_uri": "https://localhost:8080/"
        },
        "id": "0IL20DbLdGG_",
        "outputId": "cc75f5d9-1cd4-4a03-c8e5-e80550d0059a"
      },
      "execution_count": null,
      "outputs": [
        {
          "output_type": "stream",
          "name": "stdout",
          "text": [
            "  mutant                                           sequence\n",
            "0    V1D  MDNEARGNSSLNPCLEGSASSGSESSKDSSRCSTPGLDPERHERLR...\n",
            "1    V1Y  MYNEARGNSSLNPCLEGSASSGSESSKDSSRCSTPGLDPERHERLR...\n",
            "2    V1C  MCNEARGNSSLNPCLEGSASSGSESSKDSSRCSTPGLDPERHERLR...\n",
            "3    V1A  MANEARGNSSLNPCLEGSASSGSESSKDSSRCSTPGLDPERHERLR...\n",
            "4    V1E  MENEARGNSSLNPCLEGSASSGSESSKDSSRCSTPGLDPERHERLR...\n"
          ]
        }
      ]
    },
    {
      "cell_type": "markdown",
      "source": [
        "---\n",
        "\n",
        "### Embedding Our Data\n",
        "\n"
      ],
      "metadata": {
        "id": "qU9vEx--dQIc"
      }
    },
    {
      "cell_type": "markdown",
      "source": [
        "To create a vector representation of our data we leverage a __One-Hot Encoding__ approach complemented with contextual inferences from a pretrained `ESM` model.\n",
        "\n",
        "For more information about the `ESM` model and its capabilities, consult [this resource](https://github.com/facebookresearch/esm).\n",
        "\n",
        "> __Understanding The `ProteinDataset` Class__\n",
        "\n",
        "- The helper method `_compute_and_save_embedding` isolates the logic for computing and caching the per-residue embedding for each protein.\n",
        "- Before computing an embedding, the class checks if a file exists in the `esm_embeddings` directory for that sample.\n",
        "- The class returns a pooled vector representation for each protein. Instead of returning the full per-residue embedding (of shape $(L, D)$), it averages over the sequence length to produce a fixed-length vector of shape $(*D,)$.\n",
        "- This `ProteinDataset` class supports two different modes `max` pooling anf `gauss` pool.\n",
        "- __Warning! Running the below block will clear the cached embeddings in `esm_embeddings`. If you do not intend to recompute embeddings, skip the initial `shutil` command.__\n"
      ],
      "metadata": {
        "id": "9L3BKKtUdbd8"
      }
    },
    {
      "cell_type": "code",
      "source": [
        "shutil.rmtree(\"esm_embeddings\")"
      ],
      "metadata": {
        "id": "UOYuhmLqf_Ew"
      },
      "execution_count": null,
      "outputs": []
    },
    {
      "cell_type": "code",
      "source": [
        "class ProteinDataset(Dataset):\n",
        "\n",
        "    def __init__(self, df, istrain=True, device='cuda', mode='both', std=10):\n",
        "        self.df = df.reset_index(drop=True)\n",
        "        self.istrain = istrain\n",
        "        self.device = device\n",
        "        self.mode = mode\n",
        "        self.std = std\n",
        "\n",
        "        self.embedding_dir = \"esm_embeddings\"\n",
        "        os.makedirs(self.embedding_dir, exist_ok=True)\n",
        "\n",
        "        self.model, self.alphabet = torch.hub.load(\"facebookresearch/esm:main\",\n",
        "                                                   \"esm2_t33_650M_UR50D\")\n",
        "        self.batch_converter = self.alphabet.get_batch_converter()\n",
        "        self.model = self.model.to(self.device)\n",
        "        self.model.eval()\n",
        "\n",
        "        for idx, row in self.df.iterrows():\n",
        "            emb_path = self._embedding_path(idx)\n",
        "            if not os.path.exists(emb_path):\n",
        "                self._compute_and_save_embedding(idx, row['sequence'])\n",
        "\n",
        "        if self.istrain:\n",
        "            self.targets = self.df['DMS_score'].values\n",
        "\n",
        "    def _embedding_path(self, idx):\n",
        "        prefix = \"train\" if self.istrain else \"test\"\n",
        "        return os.path.join(self.embedding_dir, f\"{prefix}_seq_{idx}.pt\")\n",
        "\n",
        "    def _compute_and_save_embedding(self, idx, seq):\n",
        "        name = f\"protein{idx}\"\n",
        "        data = [(name, seq)]\n",
        "        batch_labels, batch_strs, batch_tokens = self.batch_converter(data)\n",
        "        batch_tokens = batch_tokens.to(self.device)\n",
        "        batch_lens = (batch_tokens != self.alphabet.padding_idx).sum(1)\n",
        "\n",
        "        with torch.no_grad():\n",
        "            results = self.model(batch_tokens, repr_layers=[33], return_contacts=False)\n",
        "        token_representations = results[\"representations\"][33]\n",
        "        rep = token_representations[0, 1:batch_lens.item()-1].cpu()\n",
        "        torch.save(rep, self._embedding_path(idx))\n",
        "\n",
        "    def __len__(self):\n",
        "        return len(self.df)\n",
        "\n",
        "    def __getitem__(self, idx, std=10):\n",
        "        emb_path = self._embedding_path(idx)\n",
        "        embedding = torch.load(emb_path)\n",
        "\n",
        "        mutant_str = self.df.loc[idx, \"mutant\"]\n",
        "        pos = int(mutant_str[1:-1])\n",
        "\n",
        "        if pos >= embedding.shape[0]:\n",
        "            pos = embedding.shape[0] - 1\n",
        "\n",
        "        if self.mode == \"max\":\n",
        "            feature = embedding.max(dim=0).values\n",
        "\n",
        "        elif self.mode == \"gauss\":\n",
        "            L = embedding.shape[0]\n",
        "            indices = torch.arange(L, dtype=torch.float32)\n",
        "            weights = torch.exp(-((indices - pos) ** 2) / (2 * std ** 2))\n",
        "            weights = weights / weights.sum()\n",
        "            feature = (weights.unsqueeze(1) * embedding).sum(dim=0)\n",
        "\n",
        "        else:\n",
        "            raise ValueError(f\"Unknown mode: {self.mode}\")\n",
        "\n",
        "        if self.istrain:\n",
        "            target = self.targets[idx]\n",
        "            return feature, torch.tensor(target, dtype=torch.float32)\n",
        "        else:\n",
        "            return feature\n"
      ],
      "metadata": {
        "id": "7dkWV8a7eSsv"
      },
      "execution_count": null,
      "outputs": []
    },
    {
      "cell_type": "markdown",
      "source": [
        "Now that we have the `ProteinDataset` class we can apply it to our training data previously generated into `df_train`:"
      ],
      "metadata": {
        "id": "XCulKXWDfHet"
      }
    },
    {
      "cell_type": "code",
      "source": [
        "train_dataset_max = ProteinDataset(df_train, mode=\"max\")\n",
        "train_dataset_gauss = ProteinDataset(df_train, mode=\"gauss\")\n",
        "\n",
        "embedding, _ = train_dataset_max[0]\n",
        "print(f\"\\nSample embedding shape: ({embedding.shape[0]},)  ; Total samples: {len(train_dataset_max)}\")"
      ],
      "metadata": {
        "colab": {
          "base_uri": "https://localhost:8080/"
        },
        "id": "XJ7lOaE1fJ5t",
        "outputId": "d2f2b9be-dac8-4787-c4c3-25b9762a37a2"
      },
      "execution_count": null,
      "outputs": [
        {
          "output_type": "stream",
          "name": "stderr",
          "text": [
            "Downloading: \"https://github.com/facebookresearch/esm/zipball/main\" to /root/.cache/torch/hub/main.zip\n",
            "Downloading: \"https://dl.fbaipublicfiles.com/fair-esm/models/esm2_t33_650M_UR50D.pt\" to /root/.cache/torch/hub/checkpoints/esm2_t33_650M_UR50D.pt\n",
            "Downloading: \"https://dl.fbaipublicfiles.com/fair-esm/regression/esm2_t33_650M_UR50D-contact-regression.pt\" to /root/.cache/torch/hub/checkpoints/esm2_t33_650M_UR50D-contact-regression.pt\n",
            "Using cache found in /root/.cache/torch/hub/facebookresearch_esm_main\n"
          ]
        },
        {
          "output_type": "stream",
          "name": "stdout",
          "text": [
            "\n",
            "Sample embedding shape: (1280,)  ; Total samples: 1440\n"
          ]
        }
      ]
    },
    {
      "cell_type": "markdown",
      "source": [
        "---\n",
        "\n",
        "### `Train-Validation` Splitting\n"
      ],
      "metadata": {
        "id": "GMr1T9urgvwm"
      }
    },
    {
      "cell_type": "markdown",
      "source": [
        "In order to validate our eventual model we need to perform a `train-validation` split so that some of our data is used to actually train the model and some of it is used to validate our approach based on pre-defined metrics.\n",
        "\n",
        "There are numerous ways to generate this split including [__K-Fold Cross-Validation__](https://machinelearningmastery.com/k-fold-cross-validation/), but we approached this problem with a simple `80/20` split (training/validation)."
      ],
      "metadata": {
        "id": "xGIlo_YIhbuv"
      }
    },
    {
      "cell_type": "code",
      "source": [
        "X_max, y_full = [], []\n",
        "X_gauss = []\n",
        "\n",
        "for i in range(len(train_dataset_max)):\n",
        "\n",
        "    feature_max, target = train_dataset_max[i]\n",
        "    X_max.append(feature_max.numpy())\n",
        "\n",
        "    feature_gauss, _ = train_dataset_gauss[i]\n",
        "    X_gauss.append(feature_gauss.numpy())\n",
        "\n",
        "    y_full.append(target.item())\n",
        "\n",
        "X_max = np.vstack(X_max)\n",
        "X_gauss = np.vstack(X_gauss)\n",
        "\n",
        "y_full = np.array(y_full)\n",
        "\n",
        "print(\"Max Approach Shape:\", X_max.shape)\n",
        "print(\"Gaussian Approach Shape:\", X_gauss.shape)\n",
        "\n",
        "print(\"y_full shape:\", y_full.shape)\n",
        "\n",
        "X_max_train, X_max_val, y_train, y_val = train_test_split(X_max, y_full, test_size=0.2, random_state=42)\n",
        "X_gauss_train, X_gauss_val, _, _ = train_test_split(X_gauss, y_full, test_size=0.2, random_state=42)\n",
        "\n",
        "print(\"Train shapes:\", X_max_train.shape, X_gauss_train.shape)\n",
        "print(\"Val shapes:\", X_max_val.shape, X_gauss_val.shape)"
      ],
      "metadata": {
        "colab": {
          "base_uri": "https://localhost:8080/"
        },
        "id": "jUpTh4TBhn6H",
        "outputId": "0c95dd11-066a-42a8-fda5-034ef39a2aaf"
      },
      "execution_count": null,
      "outputs": [
        {
          "output_type": "stream",
          "name": "stdout",
          "text": [
            "Max Approach Shape: (1440, 1280)\n",
            "Gaussian Approach Shape: (1440, 1280)\n",
            "y_full shape: (1440,)\n",
            "Train shapes: (1152, 1280) (1152, 1280)\n",
            "Val shapes: (288, 1280) (288, 1280)\n"
          ]
        }
      ]
    },
    {
      "cell_type": "markdown",
      "source": [
        "---\n",
        "\n",
        "### Constructing a Model"
      ],
      "metadata": {
        "id": "m4d3-DAhh3q0"
      }
    },
    {
      "cell_type": "markdown",
      "source": [
        "In this section, we train an XGBoost regressor on our __average‐pooled `ESM` embeddings__ to predict fitness. A goal is to achieve a high Spearman correlation between the predicted and true fitness scores, ensuring that our model correctly ranks the mutants.\n",
        "\n",
        "The training pipeline involves the following steps:\n",
        "\n",
        "- **Custom Evaluation Metric:**  We define a custom scoring function based on Spearman correlation. This metric is used by `GridSearchCV` to tune the hyperparameters so that the model not only minimizes error (MSE) but also ranks samples correctly.\n",
        "\n",
        "- **Hyperparameter Tuning:**  A `parameter_grid` is defined for tuning key __XGBoost__ hyperparameters such as `max_depth`, `learning_rate`, `n_estimators`, and others. We use 3-fold cross-validation to search for the best parameters that maximize the Spearman correlation on the training split. To avoid repetitive computation we have derived optimal hyperparameters:\n",
        "  - `subsample`: `0.8`\n",
        "  - `reg_lambda`: `1`\n",
        "  - `reg_alpha`: `0.01`\n",
        "  - `n_estimators`: `300`\n",
        "  - `max_depth`: `6`\n",
        "  - `gamma`: `0`\n",
        "  - `colsample_bytree`: `0.8`\n",
        "\n",
        "- **Validation Evaluation:**  After tuning, we evaluate the best model on a held-out validation set by computing both the Spearman correlation and the MSE.\n",
        "\n",
        "- **Final Model Training:**  The best model is retrained on the full training set before making predictions on the test set.\n"
      ],
      "metadata": {
        "id": "Y7EV18tzh8IP"
      }
    },
    {
      "cell_type": "code",
      "source": [
        "def spearman_score(y_true, y_pred):\n",
        "    rho, _ = spearmanr(y_true, y_pred)\n",
        "    return rho\n",
        "\n",
        "spearman_scorer = make_scorer(spearman_score, greater_is_better=True)\n",
        "\n",
        "best_params = {\n",
        "    'objective': 'reg:squarederror',\n",
        "    'learning_rate': 0.1,\n",
        "    'max_depth': 6,\n",
        "    'n_estimators': 300,\n",
        "    'subsample': 0.8,\n",
        "    'colsample_bytree': 0.8,\n",
        "    'gamma': 0,\n",
        "    'reg_alpha': 0.01,\n",
        "    'reg_lambda': 1,\n",
        "    'seed': 42,\n",
        "    'tree_method': 'hist',\n",
        "    'device': 'cuda'\n",
        "}\n",
        "\n",
        "model_max = xgb.XGBRegressor(**best_params)\n",
        "model_max.fit(X_max_train, y_train)\n",
        "\n",
        "model_gauss = xgb.XGBRegressor(**best_params)\n",
        "model_gauss.fit(X_gauss_train, y_train)\n",
        "\n",
        "\n",
        "y_val_max = model_max.predict(X_max_val)\n",
        "y_val_gauss = model_gauss.predict(X_gauss_val)\n",
        "\n",
        "y_val_ensemble = (y_val_max + y_val_gauss) / 2\n",
        "\n",
        "print(\"\\n[MAX] Validation Spearman correlation:\", spearman_score(y_val, y_val_max))\n",
        "print(\"[MAX] Validation MSE:\", mean_squared_error(y_val, y_val_max))\n",
        "\n",
        "print(\"\\n[GAUSS] Validation Spearman correlation:\", spearman_score(y_val, y_val_gauss))\n",
        "print(\"[GAUSS] Validation MSE:\", mean_squared_error(y_val, y_val_gauss))\n",
        "\n",
        "print(\"\\n[ENSEMBLE] Validation Spearman correlation:\", spearmanr(y_val, y_val_ensemble))\n",
        "print(\"[ENSEMBLE] Validation MSE:\", mean_squared_error(y_val, y_val_ensemble))\n",
        "\n",
        "model_max.fit(X_max, y_full)\n",
        "model_gauss.fit(X_gauss, y_full)"
      ],
      "metadata": {
        "colab": {
          "base_uri": "https://localhost:8080/",
          "height": 568
        },
        "id": "hx40Wq4_OJhY",
        "outputId": "bdd1f065-1067-4e9b-d189-8b267af43d04"
      },
      "execution_count": null,
      "outputs": [
        {
          "output_type": "stream",
          "name": "stderr",
          "text": [
            "/usr/local/lib/python3.11/dist-packages/xgboost/core.py:158: UserWarning: [18:19:39] WARNING: /workspace/src/common/error_msg.cc:58: Falling back to prediction using DMatrix due to mismatched devices. This might lead to higher memory usage and slower performance. XGBoost is running on: cuda:0, while the input data is on: cpu.\n",
            "Potential solutions:\n",
            "- Use a data structure that matches the device ordinal in the booster.\n",
            "- Set the device for booster before call to inplace_predict.\n",
            "\n",
            "This warning will only be shown once.\n",
            "\n",
            "  warnings.warn(smsg, UserWarning)\n"
          ]
        },
        {
          "output_type": "stream",
          "name": "stdout",
          "text": [
            "\n",
            "[MAX] Validation Spearman correlation: 0.6951324562323872\n",
            "[MAX] Validation MSE: 0.03348663990562158\n",
            "\n",
            "[GAUSS] Validation Spearman correlation: 0.6841055409994233\n",
            "[GAUSS] Validation MSE: 0.03401722020659545\n",
            "\n",
            "[ENSEMBLE] Validation Spearman correlation: SignificanceResult(statistic=np.float64(0.7116224681218501), pvalue=np.float64(9.364706823770621e-46))\n",
            "[ENSEMBLE] Validation MSE: 0.0316011555531743\n"
          ]
        },
        {
          "output_type": "execute_result",
          "data": {
            "text/plain": [
              "XGBRegressor(base_score=None, booster=None, callbacks=None,\n",
              "             colsample_bylevel=None, colsample_bynode=None,\n",
              "             colsample_bytree=0.8, device='cuda', early_stopping_rounds=None,\n",
              "             enable_categorical=False, eval_metric=None, feature_types=None,\n",
              "             gamma=0, grow_policy=None, importance_type=None,\n",
              "             interaction_constraints=None, learning_rate=0.1, max_bin=None,\n",
              "             max_cat_threshold=None, max_cat_to_onehot=None,\n",
              "             max_delta_step=None, max_depth=6, max_leaves=None,\n",
              "             min_child_weight=None, missing=nan, monotone_constraints=None,\n",
              "             multi_strategy=None, n_estimators=300, n_jobs=None,\n",
              "             num_parallel_tree=None, random_state=None, ...)"
            ],
            "text/html": [
              "<style>#sk-container-id-1 {\n",
              "  /* Definition of color scheme common for light and dark mode */\n",
              "  --sklearn-color-text: #000;\n",
              "  --sklearn-color-text-muted: #666;\n",
              "  --sklearn-color-line: gray;\n",
              "  /* Definition of color scheme for unfitted estimators */\n",
              "  --sklearn-color-unfitted-level-0: #fff5e6;\n",
              "  --sklearn-color-unfitted-level-1: #f6e4d2;\n",
              "  --sklearn-color-unfitted-level-2: #ffe0b3;\n",
              "  --sklearn-color-unfitted-level-3: chocolate;\n",
              "  /* Definition of color scheme for fitted estimators */\n",
              "  --sklearn-color-fitted-level-0: #f0f8ff;\n",
              "  --sklearn-color-fitted-level-1: #d4ebff;\n",
              "  --sklearn-color-fitted-level-2: #b3dbfd;\n",
              "  --sklearn-color-fitted-level-3: cornflowerblue;\n",
              "\n",
              "  /* Specific color for light theme */\n",
              "  --sklearn-color-text-on-default-background: var(--sg-text-color, var(--theme-code-foreground, var(--jp-content-font-color1, black)));\n",
              "  --sklearn-color-background: var(--sg-background-color, var(--theme-background, var(--jp-layout-color0, white)));\n",
              "  --sklearn-color-border-box: var(--sg-text-color, var(--theme-code-foreground, var(--jp-content-font-color1, black)));\n",
              "  --sklearn-color-icon: #696969;\n",
              "\n",
              "  @media (prefers-color-scheme: dark) {\n",
              "    /* Redefinition of color scheme for dark theme */\n",
              "    --sklearn-color-text-on-default-background: var(--sg-text-color, var(--theme-code-foreground, var(--jp-content-font-color1, white)));\n",
              "    --sklearn-color-background: var(--sg-background-color, var(--theme-background, var(--jp-layout-color0, #111)));\n",
              "    --sklearn-color-border-box: var(--sg-text-color, var(--theme-code-foreground, var(--jp-content-font-color1, white)));\n",
              "    --sklearn-color-icon: #878787;\n",
              "  }\n",
              "}\n",
              "\n",
              "#sk-container-id-1 {\n",
              "  color: var(--sklearn-color-text);\n",
              "}\n",
              "\n",
              "#sk-container-id-1 pre {\n",
              "  padding: 0;\n",
              "}\n",
              "\n",
              "#sk-container-id-1 input.sk-hidden--visually {\n",
              "  border: 0;\n",
              "  clip: rect(1px 1px 1px 1px);\n",
              "  clip: rect(1px, 1px, 1px, 1px);\n",
              "  height: 1px;\n",
              "  margin: -1px;\n",
              "  overflow: hidden;\n",
              "  padding: 0;\n",
              "  position: absolute;\n",
              "  width: 1px;\n",
              "}\n",
              "\n",
              "#sk-container-id-1 div.sk-dashed-wrapped {\n",
              "  border: 1px dashed var(--sklearn-color-line);\n",
              "  margin: 0 0.4em 0.5em 0.4em;\n",
              "  box-sizing: border-box;\n",
              "  padding-bottom: 0.4em;\n",
              "  background-color: var(--sklearn-color-background);\n",
              "}\n",
              "\n",
              "#sk-container-id-1 div.sk-container {\n",
              "  /* jupyter's `normalize.less` sets `[hidden] { display: none; }`\n",
              "     but bootstrap.min.css set `[hidden] { display: none !important; }`\n",
              "     so we also need the `!important` here to be able to override the\n",
              "     default hidden behavior on the sphinx rendered scikit-learn.org.\n",
              "     See: https://github.com/scikit-learn/scikit-learn/issues/21755 */\n",
              "  display: inline-block !important;\n",
              "  position: relative;\n",
              "}\n",
              "\n",
              "#sk-container-id-1 div.sk-text-repr-fallback {\n",
              "  display: none;\n",
              "}\n",
              "\n",
              "div.sk-parallel-item,\n",
              "div.sk-serial,\n",
              "div.sk-item {\n",
              "  /* draw centered vertical line to link estimators */\n",
              "  background-image: linear-gradient(var(--sklearn-color-text-on-default-background), var(--sklearn-color-text-on-default-background));\n",
              "  background-size: 2px 100%;\n",
              "  background-repeat: no-repeat;\n",
              "  background-position: center center;\n",
              "}\n",
              "\n",
              "/* Parallel-specific style estimator block */\n",
              "\n",
              "#sk-container-id-1 div.sk-parallel-item::after {\n",
              "  content: \"\";\n",
              "  width: 100%;\n",
              "  border-bottom: 2px solid var(--sklearn-color-text-on-default-background);\n",
              "  flex-grow: 1;\n",
              "}\n",
              "\n",
              "#sk-container-id-1 div.sk-parallel {\n",
              "  display: flex;\n",
              "  align-items: stretch;\n",
              "  justify-content: center;\n",
              "  background-color: var(--sklearn-color-background);\n",
              "  position: relative;\n",
              "}\n",
              "\n",
              "#sk-container-id-1 div.sk-parallel-item {\n",
              "  display: flex;\n",
              "  flex-direction: column;\n",
              "}\n",
              "\n",
              "#sk-container-id-1 div.sk-parallel-item:first-child::after {\n",
              "  align-self: flex-end;\n",
              "  width: 50%;\n",
              "}\n",
              "\n",
              "#sk-container-id-1 div.sk-parallel-item:last-child::after {\n",
              "  align-self: flex-start;\n",
              "  width: 50%;\n",
              "}\n",
              "\n",
              "#sk-container-id-1 div.sk-parallel-item:only-child::after {\n",
              "  width: 0;\n",
              "}\n",
              "\n",
              "/* Serial-specific style estimator block */\n",
              "\n",
              "#sk-container-id-1 div.sk-serial {\n",
              "  display: flex;\n",
              "  flex-direction: column;\n",
              "  align-items: center;\n",
              "  background-color: var(--sklearn-color-background);\n",
              "  padding-right: 1em;\n",
              "  padding-left: 1em;\n",
              "}\n",
              "\n",
              "\n",
              "/* Toggleable style: style used for estimator/Pipeline/ColumnTransformer box that is\n",
              "clickable and can be expanded/collapsed.\n",
              "- Pipeline and ColumnTransformer use this feature and define the default style\n",
              "- Estimators will overwrite some part of the style using the `sk-estimator` class\n",
              "*/\n",
              "\n",
              "/* Pipeline and ColumnTransformer style (default) */\n",
              "\n",
              "#sk-container-id-1 div.sk-toggleable {\n",
              "  /* Default theme specific background. It is overwritten whether we have a\n",
              "  specific estimator or a Pipeline/ColumnTransformer */\n",
              "  background-color: var(--sklearn-color-background);\n",
              "}\n",
              "\n",
              "/* Toggleable label */\n",
              "#sk-container-id-1 label.sk-toggleable__label {\n",
              "  cursor: pointer;\n",
              "  display: flex;\n",
              "  width: 100%;\n",
              "  margin-bottom: 0;\n",
              "  padding: 0.5em;\n",
              "  box-sizing: border-box;\n",
              "  text-align: center;\n",
              "  align-items: start;\n",
              "  justify-content: space-between;\n",
              "  gap: 0.5em;\n",
              "}\n",
              "\n",
              "#sk-container-id-1 label.sk-toggleable__label .caption {\n",
              "  font-size: 0.6rem;\n",
              "  font-weight: lighter;\n",
              "  color: var(--sklearn-color-text-muted);\n",
              "}\n",
              "\n",
              "#sk-container-id-1 label.sk-toggleable__label-arrow:before {\n",
              "  /* Arrow on the left of the label */\n",
              "  content: \"▸\";\n",
              "  float: left;\n",
              "  margin-right: 0.25em;\n",
              "  color: var(--sklearn-color-icon);\n",
              "}\n",
              "\n",
              "#sk-container-id-1 label.sk-toggleable__label-arrow:hover:before {\n",
              "  color: var(--sklearn-color-text);\n",
              "}\n",
              "\n",
              "/* Toggleable content - dropdown */\n",
              "\n",
              "#sk-container-id-1 div.sk-toggleable__content {\n",
              "  max-height: 0;\n",
              "  max-width: 0;\n",
              "  overflow: hidden;\n",
              "  text-align: left;\n",
              "  /* unfitted */\n",
              "  background-color: var(--sklearn-color-unfitted-level-0);\n",
              "}\n",
              "\n",
              "#sk-container-id-1 div.sk-toggleable__content.fitted {\n",
              "  /* fitted */\n",
              "  background-color: var(--sklearn-color-fitted-level-0);\n",
              "}\n",
              "\n",
              "#sk-container-id-1 div.sk-toggleable__content pre {\n",
              "  margin: 0.2em;\n",
              "  border-radius: 0.25em;\n",
              "  color: var(--sklearn-color-text);\n",
              "  /* unfitted */\n",
              "  background-color: var(--sklearn-color-unfitted-level-0);\n",
              "}\n",
              "\n",
              "#sk-container-id-1 div.sk-toggleable__content.fitted pre {\n",
              "  /* unfitted */\n",
              "  background-color: var(--sklearn-color-fitted-level-0);\n",
              "}\n",
              "\n",
              "#sk-container-id-1 input.sk-toggleable__control:checked~div.sk-toggleable__content {\n",
              "  /* Expand drop-down */\n",
              "  max-height: 200px;\n",
              "  max-width: 100%;\n",
              "  overflow: auto;\n",
              "}\n",
              "\n",
              "#sk-container-id-1 input.sk-toggleable__control:checked~label.sk-toggleable__label-arrow:before {\n",
              "  content: \"▾\";\n",
              "}\n",
              "\n",
              "/* Pipeline/ColumnTransformer-specific style */\n",
              "\n",
              "#sk-container-id-1 div.sk-label input.sk-toggleable__control:checked~label.sk-toggleable__label {\n",
              "  color: var(--sklearn-color-text);\n",
              "  background-color: var(--sklearn-color-unfitted-level-2);\n",
              "}\n",
              "\n",
              "#sk-container-id-1 div.sk-label.fitted input.sk-toggleable__control:checked~label.sk-toggleable__label {\n",
              "  background-color: var(--sklearn-color-fitted-level-2);\n",
              "}\n",
              "\n",
              "/* Estimator-specific style */\n",
              "\n",
              "/* Colorize estimator box */\n",
              "#sk-container-id-1 div.sk-estimator input.sk-toggleable__control:checked~label.sk-toggleable__label {\n",
              "  /* unfitted */\n",
              "  background-color: var(--sklearn-color-unfitted-level-2);\n",
              "}\n",
              "\n",
              "#sk-container-id-1 div.sk-estimator.fitted input.sk-toggleable__control:checked~label.sk-toggleable__label {\n",
              "  /* fitted */\n",
              "  background-color: var(--sklearn-color-fitted-level-2);\n",
              "}\n",
              "\n",
              "#sk-container-id-1 div.sk-label label.sk-toggleable__label,\n",
              "#sk-container-id-1 div.sk-label label {\n",
              "  /* The background is the default theme color */\n",
              "  color: var(--sklearn-color-text-on-default-background);\n",
              "}\n",
              "\n",
              "/* On hover, darken the color of the background */\n",
              "#sk-container-id-1 div.sk-label:hover label.sk-toggleable__label {\n",
              "  color: var(--sklearn-color-text);\n",
              "  background-color: var(--sklearn-color-unfitted-level-2);\n",
              "}\n",
              "\n",
              "/* Label box, darken color on hover, fitted */\n",
              "#sk-container-id-1 div.sk-label.fitted:hover label.sk-toggleable__label.fitted {\n",
              "  color: var(--sklearn-color-text);\n",
              "  background-color: var(--sklearn-color-fitted-level-2);\n",
              "}\n",
              "\n",
              "/* Estimator label */\n",
              "\n",
              "#sk-container-id-1 div.sk-label label {\n",
              "  font-family: monospace;\n",
              "  font-weight: bold;\n",
              "  display: inline-block;\n",
              "  line-height: 1.2em;\n",
              "}\n",
              "\n",
              "#sk-container-id-1 div.sk-label-container {\n",
              "  text-align: center;\n",
              "}\n",
              "\n",
              "/* Estimator-specific */\n",
              "#sk-container-id-1 div.sk-estimator {\n",
              "  font-family: monospace;\n",
              "  border: 1px dotted var(--sklearn-color-border-box);\n",
              "  border-radius: 0.25em;\n",
              "  box-sizing: border-box;\n",
              "  margin-bottom: 0.5em;\n",
              "  /* unfitted */\n",
              "  background-color: var(--sklearn-color-unfitted-level-0);\n",
              "}\n",
              "\n",
              "#sk-container-id-1 div.sk-estimator.fitted {\n",
              "  /* fitted */\n",
              "  background-color: var(--sklearn-color-fitted-level-0);\n",
              "}\n",
              "\n",
              "/* on hover */\n",
              "#sk-container-id-1 div.sk-estimator:hover {\n",
              "  /* unfitted */\n",
              "  background-color: var(--sklearn-color-unfitted-level-2);\n",
              "}\n",
              "\n",
              "#sk-container-id-1 div.sk-estimator.fitted:hover {\n",
              "  /* fitted */\n",
              "  background-color: var(--sklearn-color-fitted-level-2);\n",
              "}\n",
              "\n",
              "/* Specification for estimator info (e.g. \"i\" and \"?\") */\n",
              "\n",
              "/* Common style for \"i\" and \"?\" */\n",
              "\n",
              ".sk-estimator-doc-link,\n",
              "a:link.sk-estimator-doc-link,\n",
              "a:visited.sk-estimator-doc-link {\n",
              "  float: right;\n",
              "  font-size: smaller;\n",
              "  line-height: 1em;\n",
              "  font-family: monospace;\n",
              "  background-color: var(--sklearn-color-background);\n",
              "  border-radius: 1em;\n",
              "  height: 1em;\n",
              "  width: 1em;\n",
              "  text-decoration: none !important;\n",
              "  margin-left: 0.5em;\n",
              "  text-align: center;\n",
              "  /* unfitted */\n",
              "  border: var(--sklearn-color-unfitted-level-1) 1pt solid;\n",
              "  color: var(--sklearn-color-unfitted-level-1);\n",
              "}\n",
              "\n",
              ".sk-estimator-doc-link.fitted,\n",
              "a:link.sk-estimator-doc-link.fitted,\n",
              "a:visited.sk-estimator-doc-link.fitted {\n",
              "  /* fitted */\n",
              "  border: var(--sklearn-color-fitted-level-1) 1pt solid;\n",
              "  color: var(--sklearn-color-fitted-level-1);\n",
              "}\n",
              "\n",
              "/* On hover */\n",
              "div.sk-estimator:hover .sk-estimator-doc-link:hover,\n",
              ".sk-estimator-doc-link:hover,\n",
              "div.sk-label-container:hover .sk-estimator-doc-link:hover,\n",
              ".sk-estimator-doc-link:hover {\n",
              "  /* unfitted */\n",
              "  background-color: var(--sklearn-color-unfitted-level-3);\n",
              "  color: var(--sklearn-color-background);\n",
              "  text-decoration: none;\n",
              "}\n",
              "\n",
              "div.sk-estimator.fitted:hover .sk-estimator-doc-link.fitted:hover,\n",
              ".sk-estimator-doc-link.fitted:hover,\n",
              "div.sk-label-container:hover .sk-estimator-doc-link.fitted:hover,\n",
              ".sk-estimator-doc-link.fitted:hover {\n",
              "  /* fitted */\n",
              "  background-color: var(--sklearn-color-fitted-level-3);\n",
              "  color: var(--sklearn-color-background);\n",
              "  text-decoration: none;\n",
              "}\n",
              "\n",
              "/* Span, style for the box shown on hovering the info icon */\n",
              ".sk-estimator-doc-link span {\n",
              "  display: none;\n",
              "  z-index: 9999;\n",
              "  position: relative;\n",
              "  font-weight: normal;\n",
              "  right: .2ex;\n",
              "  padding: .5ex;\n",
              "  margin: .5ex;\n",
              "  width: min-content;\n",
              "  min-width: 20ex;\n",
              "  max-width: 50ex;\n",
              "  color: var(--sklearn-color-text);\n",
              "  box-shadow: 2pt 2pt 4pt #999;\n",
              "  /* unfitted */\n",
              "  background: var(--sklearn-color-unfitted-level-0);\n",
              "  border: .5pt solid var(--sklearn-color-unfitted-level-3);\n",
              "}\n",
              "\n",
              ".sk-estimator-doc-link.fitted span {\n",
              "  /* fitted */\n",
              "  background: var(--sklearn-color-fitted-level-0);\n",
              "  border: var(--sklearn-color-fitted-level-3);\n",
              "}\n",
              "\n",
              ".sk-estimator-doc-link:hover span {\n",
              "  display: block;\n",
              "}\n",
              "\n",
              "/* \"?\"-specific style due to the `<a>` HTML tag */\n",
              "\n",
              "#sk-container-id-1 a.estimator_doc_link {\n",
              "  float: right;\n",
              "  font-size: 1rem;\n",
              "  line-height: 1em;\n",
              "  font-family: monospace;\n",
              "  background-color: var(--sklearn-color-background);\n",
              "  border-radius: 1rem;\n",
              "  height: 1rem;\n",
              "  width: 1rem;\n",
              "  text-decoration: none;\n",
              "  /* unfitted */\n",
              "  color: var(--sklearn-color-unfitted-level-1);\n",
              "  border: var(--sklearn-color-unfitted-level-1) 1pt solid;\n",
              "}\n",
              "\n",
              "#sk-container-id-1 a.estimator_doc_link.fitted {\n",
              "  /* fitted */\n",
              "  border: var(--sklearn-color-fitted-level-1) 1pt solid;\n",
              "  color: var(--sklearn-color-fitted-level-1);\n",
              "}\n",
              "\n",
              "/* On hover */\n",
              "#sk-container-id-1 a.estimator_doc_link:hover {\n",
              "  /* unfitted */\n",
              "  background-color: var(--sklearn-color-unfitted-level-3);\n",
              "  color: var(--sklearn-color-background);\n",
              "  text-decoration: none;\n",
              "}\n",
              "\n",
              "#sk-container-id-1 a.estimator_doc_link.fitted:hover {\n",
              "  /* fitted */\n",
              "  background-color: var(--sklearn-color-fitted-level-3);\n",
              "}\n",
              "</style><div id=\"sk-container-id-1\" class=\"sk-top-container\"><div class=\"sk-text-repr-fallback\"><pre>XGBRegressor(base_score=None, booster=None, callbacks=None,\n",
              "             colsample_bylevel=None, colsample_bynode=None,\n",
              "             colsample_bytree=0.8, device=&#x27;cuda&#x27;, early_stopping_rounds=None,\n",
              "             enable_categorical=False, eval_metric=None, feature_types=None,\n",
              "             gamma=0, grow_policy=None, importance_type=None,\n",
              "             interaction_constraints=None, learning_rate=0.1, max_bin=None,\n",
              "             max_cat_threshold=None, max_cat_to_onehot=None,\n",
              "             max_delta_step=None, max_depth=6, max_leaves=None,\n",
              "             min_child_weight=None, missing=nan, monotone_constraints=None,\n",
              "             multi_strategy=None, n_estimators=300, n_jobs=None,\n",
              "             num_parallel_tree=None, random_state=None, ...)</pre><b>In a Jupyter environment, please rerun this cell to show the HTML representation or trust the notebook. <br />On GitHub, the HTML representation is unable to render, please try loading this page with nbviewer.org.</b></div><div class=\"sk-container\" hidden><div class=\"sk-item\"><div class=\"sk-estimator fitted sk-toggleable\"><input class=\"sk-toggleable__control sk-hidden--visually\" id=\"sk-estimator-id-1\" type=\"checkbox\" checked><label for=\"sk-estimator-id-1\" class=\"sk-toggleable__label fitted sk-toggleable__label-arrow\"><div><div>XGBRegressor</div></div><div><span class=\"sk-estimator-doc-link fitted\">i<span>Fitted</span></span></div></label><div class=\"sk-toggleable__content fitted\"><pre>XGBRegressor(base_score=None, booster=None, callbacks=None,\n",
              "             colsample_bylevel=None, colsample_bynode=None,\n",
              "             colsample_bytree=0.8, device=&#x27;cuda&#x27;, early_stopping_rounds=None,\n",
              "             enable_categorical=False, eval_metric=None, feature_types=None,\n",
              "             gamma=0, grow_policy=None, importance_type=None,\n",
              "             interaction_constraints=None, learning_rate=0.1, max_bin=None,\n",
              "             max_cat_threshold=None, max_cat_to_onehot=None,\n",
              "             max_delta_step=None, max_depth=6, max_leaves=None,\n",
              "             min_child_weight=None, missing=nan, monotone_constraints=None,\n",
              "             multi_strategy=None, n_estimators=300, n_jobs=None,\n",
              "             num_parallel_tree=None, random_state=None, ...)</pre></div> </div></div></div></div>"
            ]
          },
          "metadata": {},
          "execution_count": 10
        }
      ]
    },
    {
      "cell_type": "markdown",
      "source": [
        "---\n",
        "\n",
        "### Testing a Model\n"
      ],
      "metadata": {
        "id": "C_Yo2kRJnEed"
      }
    },
    {
      "cell_type": "markdown",
      "source": [
        "We use our final trained __XGBoost__ regressor to generate predictions for all mutants in the test set.\n",
        "\n",
        "We then use the model to predict the fitness scores (DMS scores) and format our results into a CSV file (`predictions.csv`) with two columns:\n",
        "- **`mutant`:** The mutation identifier in the format `M#A`.\n",
        "- **`DMS_score_predicted`:** The predicted fitness score.\n",
        "\n",
        "Finally, we sort the predictions to extract the top 10 mutants and save their identifiers into a text file (`top10.txt`).\n"
      ],
      "metadata": {
        "id": "kZ6JF1GcnIFt"
      }
    },
    {
      "cell_type": "code",
      "source": [
        "test_dataset_max = ProteinDataset(df_test, istrain=False, mode=\"max\")\n",
        "test_dataset_gauss = ProteinDataset(df_test, istrain=False, mode=\"gauss\")\n",
        "\n",
        "X_test_max = np.vstack([test_dataset_max[i].numpy() for i in range(len(test_dataset_max))])\n",
        "X_test_gauss = np.vstack([test_dataset_gauss[i].numpy() for i in range(len(test_dataset_gauss))])\n",
        "\n",
        "print(\"X_test_max shape:\", X_test_max.shape)\n",
        "print(\"X_test_gauss shape:\", X_test_gauss.shape)\n",
        "\n",
        "y_test_max = model_max.predict(X_test_max)\n",
        "y_test_gauss = model_gauss.predict(X_test_gauss)\n",
        "\n",
        "y_test_pred = (y_test_max + y_test_gauss) / 2\n",
        "\n",
        "df_results = pd.DataFrame({\n",
        "    \"mutant\": df_test[\"mutant\"],\n",
        "    \"DMS_score_predicted\": y_test_pred\n",
        "})\n",
        "df_results.to_csv(\"predictions.csv\", index=False)\n",
        "\n",
        "df_top10 = df_results.sort_values(by=\"DMS_score_predicted\", ascending=False).head(10)\n",
        "with open(\"top10.txt\", \"w\") as f:\n",
        "    for mutant in df_top10[\"mutant\"]:\n",
        "        f.write(mutant + \"\\n\")"
      ],
      "metadata": {
        "colab": {
          "base_uri": "https://localhost:8080/"
        },
        "id": "B6F9lp50nxUN",
        "outputId": "50815f49-e943-40ce-d5c7-282ab7f33f1d"
      },
      "execution_count": null,
      "outputs": [
        {
          "output_type": "stream",
          "name": "stderr",
          "text": [
            "Using cache found in /root/.cache/torch/hub/facebookresearch_esm_main\n",
            "Using cache found in /root/.cache/torch/hub/facebookresearch_esm_main\n"
          ]
        },
        {
          "output_type": "stream",
          "name": "stdout",
          "text": [
            "X_test_max shape: (11324, 1280)\n",
            "X_test_gauss shape: (11324, 1280)\n"
          ]
        }
      ]
    }
  ]
}
